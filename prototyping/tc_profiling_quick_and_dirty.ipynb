{
 "cells": [
  {
   "cell_type": "markdown",
   "metadata": {},
   "source": [
    "# TC Profiling\n"
   ]
  },
  {
   "cell_type": "code",
   "execution_count": 1,
   "metadata": {
    "collapsed": true
   },
   "outputs": [],
   "source": [
    "# global settings\n",
    "%matplotlib inline\n",
    "%config InlineBackend.figure_format = 'svg'\n",
    "import matplotlib.pyplot as plt\n",
    "import numpy as np\n",
    "import seaborn"
   ]
  },
  {
   "cell_type": "markdown",
   "metadata": {},
   "source": [
    "## SFC / VNF Model\n",
    "\n",
    "The first approach for a simplistic SFC / VNF performance model that can be used to play with different profiling approaches. As a first shot, the model tries to mimic the results from our NFV-SDN'17 paper [1]. The model focusses only on throughput as main metric for now. \n",
    "\n",
    "\n",
    "<small>\n",
    "* [1] M. Peuster and H. Karl: Profile Your Chains, Not Functions: Automated Network Service Profiling in DevOps Environments. IEEE Conference on Network Function Virtualization and Software Defined Networks (NFV-SDN), Berlin, Germany. (2017) \n",
    "</small>"
   ]
  },
  {
   "cell_type": "code",
   "execution_count": 42,
   "metadata": {},
   "outputs": [],
   "source": [
    "class NS(object):\n",
    "    \"\"\"\n",
    "    A network service based on a linear SFC: f1 -> f2 -> ... -> fN \n",
    "    \"\"\"\n",
    "    \n",
    "    def __init__(self, name, vnfs, alpha_func=lambda: 1.0):\n",
    "        \"\"\"\n",
    "        name: name of service (string)\n",
    "        vnfs: functions representing the VNF's CPU-time -> throughput mapping (list)\n",
    "        alpha_func: function to generate the alpha values to scale the VNF performance (e.g. random gen.)\n",
    "        \"\"\"\n",
    "        self.name = name\n",
    "        self.vnfs = vnfs\n",
    "        self.alphas = [alpha_func() for _ in self.vnfs]\n",
    "        print(\"Initialized '{}' with alphas={}\".format(self.name, self.alphas))   \n",
    "        \n",
    "    def _calc_vnf_tp(self, cpu_times):\n",
    "        \"\"\"\n",
    "        calculate TP for each function in self.vnfs\n",
    "        cpu_times: CPU time available for each VNF\n",
    "        \"\"\"\n",
    "        assert len(cpu_times) == len(self.vnfs) == len(self.alphas)\n",
    "        # calculate result for each vnf and multiply by corresponding alpha\n",
    "        return [f(r) * a for f, r, a in zip(self.vnfs, cpu_times, self.alphas)]\n",
    "           \n",
    "    def get_total_tp(self, cpu_times):\n",
    "        \"\"\"\n",
    "        calculate TP of SFC\n",
    "        cpu_times: CPU time available for each VNF\n",
    "        \"\"\"\n",
    "        # uses \"naive\" minimum-TP model from NFV-SDN'17 paper for now\n",
    "        return min(self._calc_vnf_tp(cpu_times))\n"
   ]
  },
  {
   "cell_type": "code",
   "execution_count": 43,
   "metadata": {},
   "outputs": [
    {
     "name": "stdout",
     "output_type": "stream",
     "text": [
      "Initialized 'n1' with alphas=[1.0, 1.0, 1.0]\n",
      "0.192\n",
      "1.2\n",
      "1.2\n",
      "Initialized 'n2' with alphas=[2.0662965758804157, 3.9969666362217366, 4.904328269091169]\n",
      "0.9416310276655045\n",
      "5.885193922909403\n",
      "5.885193922909403\n"
     ]
    }
   ],
   "source": [
    "#\n",
    "# Model tests\n",
    "#\n",
    "# test with simple linear models (based on NFV-SDN'17 paper results)\n",
    "vnfs = [\n",
    "    lambda x: 8.0 * x,\n",
    "    lambda x: 3.0 * x,\n",
    "    lambda x: 1.2 * x\n",
    "]\n",
    "\n",
    "def uniform_rnd():\n",
    "    return np.random.uniform(0.2, 5.0)\n",
    "\n",
    "n1 = NS(\"n1\", vnfs)\n",
    "print(n1.get_total_tp([0.16, 0.16, 0.16]))\n",
    "print(n1.get_total_tp([1.0, 1.0, 1.0]))\n",
    "print(n1.get_total_tp([1.0, 1.0, 1.0]))\n",
    "\n",
    "n2 = NS(\"n2\", vnfs, alpha_func=uniform_rnd)\n",
    "print(n2.get_total_tp([0.16, 0.16, 0.16]))\n",
    "print(n2.get_total_tp([1.0, 1.0, 1.0]))\n",
    "print(n2.get_total_tp([1.0, 1.0, 1.0]))"
   ]
  }
 ],
 "metadata": {
  "kernelspec": {
   "display_name": "Python 3",
   "language": "python",
   "name": "python3"
  },
  "language_info": {
   "codemirror_mode": {
    "name": "ipython",
    "version": 3
   },
   "file_extension": ".py",
   "mimetype": "text/x-python",
   "name": "python",
   "nbconvert_exporter": "python",
   "pygments_lexer": "ipython3",
   "version": "3.6.1"
  }
 },
 "nbformat": 4,
 "nbformat_minor": 2
}
